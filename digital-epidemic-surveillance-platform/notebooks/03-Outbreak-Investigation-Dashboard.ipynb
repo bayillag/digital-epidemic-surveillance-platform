{
 "cells": [
  {
   "cell_type": "markdown",
   "metadata": {},
   "source": [
    "# The Investigator's Report: Outbreak Investigation Dashboard\n",
    "\n",
    "This notebook is the definitive tool for reviewing the complete findings of a field investigation. It serves as the primary interface for epidemiologists, program managers, and other stakeholders to access and understand the rich, detailed data collected during an investigation.\n",
    "\n",
    "**Key Features:**\n",
    "1.  **Investigation Selector:** Allows a user to select any completed investigation from the database.\n",
    "2.  **Multi-Tabbed Report:** Presents the data in a comprehensive, organized format:\n",
    "    *   **At a Glance:** Core details, clinical presentation, and population characteristics.\n",
    "    *   **Risk Pathway Analysis:** A visual summary and detailed breakdown of the investigator's conclusions on likely outbreak sources.\n",
    "    *   **Diagnostics:** A clear table of all laboratory results.\n",
    "    *   **Surroundings:** A table detailing other relevant animal premises in the vicinity.\n",
    "\n",
    "**Architecture:** This dashboard is powered by a highly efficient PostgreSQL function (`get_full_investigation_report`) that fetches all required data for a single investigation in one call, ensuring a fast and responsive user experience."
   ]
  },
  {
   "cell_type": "code",
   "execution_count": null,
   "metadata": {},
   "outputs": [],
   "source": [
    "import ipywidgets as widgets\n",
    "from IPython.display import display, clear_output\n",
    "import pandas as pd\n",
    "import json\n",
    "import matplotlib.pyplot as plt\n",
    "import io\n",
    "import base64\n",
    "from supabase import create_client, Client\n",
    "from dotenv import load_dotenv\n",
    "import os\n",
    "\n",
    "# Load environment variables and connect to Supabase\n",
    "load_dotenv()\n",
    "supabase_url = os.getenv(\"SUPABASE_URL\")\n",
    "supabase_key = os.getenv(\"SUPABASE_ANON_KEY\")\n",
    "if supabase_url and supabase_key:\n",
    "    supabase: Client = create_client(supabase_url, supabase_key)\n",
    "    print(\"✅ Successfully connected to Supabase.\")\n",
    "else:\n",
    "    print(\"❌ Supabase credentials not found.\")"
   ]
  },
  {
   "cell_type": "markdown",
   "metadata": {},
   "source": [
    "### Part 1: Helper Functions & Data Loading\n",
    "\n",
    "First, we define a helper function to embed Matplotlib charts in our dashboard. Then, we fetch a list of all available investigations from the database to populate our main selector widget. This ensures the user can choose from any report in the system."
   ]
  },
  {
   "cell_type": "code",
   "execution_count": null,
   "metadata": {},
   "outputs": [],
   "source": [
    "def plt_to_base64_html(plt_figure):\n",
    "    buf = io.BytesIO()\n",
    "    plt_figure.savefig(buf, format='png', bbox_inches='tight')\n",
    "    img_b64 = base64.b64encode(buf.getvalue()).decode('utf-8')\n",
    "    plt.close(plt_figure)\n",
    "    return f'<img src=\"data:image/png;base64,{img_b64}\" style=\"max-width:100%; height:auto;\">'\n",
    "\n",
    "# Fetch the list of all completed investigations to populate the dropdown\n",
    "df_investigations = pd.DataFrame()\n",
    "if 'supabase' in globals():\n",
    "    try:\n",
    "        res = supabase.table(\"outbreak_investigations\").select(\"investigation_id, site_name, primary_species_investigated\").execute()\n",
    "        df_investigations = pd.DataFrame(res.data)\n",
    "        print(f\"✅ Found {len(df_investigations)} investigations to review.\")\n",
    "    except Exception as e:\n",
    "        print(f\"❌ Could not fetch list of investigations: {e}\")"
   ]
  },
  {
   "cell_type": "markdown",
   "metadata": {},
   "source": [
    "### Part 2: The Interactive Investigation Dashboard\n",
    "\n",
    "This is the core of the notebook. It defines the widgets, the multi-tabbed layout, and the `update_dashboard` function. When a user selects an investigation, this function calls the `get_full_investigation_report` database function to retrieve a complete JSON object of the report and then populates all the tabs with the relevant information."
   ]
  },
  {
   "cell_type": "code",
   "execution_count": null,
   "metadata": {},
   "outputs": [],
   "source": [
    "if not df_investigations.empty:\n",
    "    # --- 1. DEFINE WIDGETS AND LAYOUT ---\n",
    "    investigation_options = {f\"ID {r.investigation_id}: {r.site_name} ({r.primary_species_investigated})\": r.investigation_id for _, r in df_investigations.iterrows()}\n",
    "    investigation_selector = widgets.Dropdown(options={**{'-- Select an Investigation --': 0}, **investigation_options}, description='Investigation:')\n",
    "    \n",
    "    tab_summary = widgets.HTML()\n",
    "    tab_risk = widgets.VBox()\n",
    "    tab_diagnostics = widgets.HTML()\n",
    "    tab_surroundings = widgets.HTML()\n",
    "    \n",
    "    main_tabs = widgets.Tab(children=[tab_summary, tab_risk, tab_diagnostics, tab_surroundings])\n",
    "    main_tabs.set_title(0, 'At a Glance'); main_tabs.set_title(1, 'Risk Pathway Analysis'); main_tabs.set_title(2, 'Diagnostics'); main_tabs.set_title(3, 'Surroundings')\n",
    "\n",
    "    # --- 2. THE MAIN UPDATE FUNCTION ---\n",
    "    def update_dashboard(change):\n",
    "        selected_id = investigation_selector.value\n",
    "        if selected_id == 0:\n",
    "            tab_summary.value = tab_diagnostics.value = tab_surroundings.value = \"<p><i>Please select an investigation to view details.</i></p>\"\n",
    "            tab_risk.children = []\n",
    "            return\n",
    "            \n",
    "        response = supabase.rpc('get_full_investigation_report', {'p_investigation_id': selected_id}).execute()\n",
    "        if not response.data or not response.data[0]: return\n",
    "        data = response.data[0]\n",
    "\n",
    "        tab_summary.value = f\"<h3>Site: {data.get('site_name', 'N/A')}</h3><p><b>Primary Species:</b> {data.get('primary_species', 'N/A')}</p><h4>Clinical Presentation</h4><p>{data.get('clinical_presentation', 'N/A')}</p>\"\n",
    "\n",
    "        risk_assessments = data.get('risk_assessments') or []\n",
    "        if risk_assessments:\n",
    "            df_risk = pd.DataFrame(risk_assessments)\n",
    "            risk_counts = df_risk['likelihood_of_introduction'].value_counts()\n",
    "            fig, ax = plt.subplots(figsize=(8,4)); risk_counts.plot(kind='bar', ax=ax, color=['red','orange','green','grey'])\n",
    "            ax.set_title('Summary of Assessed Pathway Risks'); chart_html = plt_to_base64_html(fig)\n",
    "            \n",
    "            accordion_items = [widgets.HTML(f\"<p><b>Justification:</b> {item.get('justification_for_risk', '')}</p><pre>{json.dumps(item.get('pathway_details', {}), indent=2)}</pre>\") for item in risk_assessments]\n",
    "            accordion = widgets.Accordion(children=accordion_items)\n",
    "            for i, item in enumerate(risk_assessments): accordion.set_title(i, f\"{item['pathway_category']} (Risk: {item['likelihood_of_introduction']})\")\n",
    "            tab_risk.children = [widgets.HTML(chart_html), accordion]\n",
    "        else:\n",
    "            tab_risk.children = [widgets.HTML(\"<p><i>No risk pathway assessments recorded.</i></p>\")]\n",
    "\n",
    "        tab_diagnostics.value = pd.DataFrame(data.get('diagnostic_tests', [])).to_html(index=False, classes='table') or \"<p><i>No diagnostic tests recorded.</i></p>\"\n",
    "        tab_surroundings.value = pd.DataFrame(data.get('nearby_premises', [])).to_html(index=False, classes='table') or \"<p><i>No nearby premises recorded.</i></p>\"\n",
    "\n",
    "    # --- 3. ASSEMBLE AND DISPLAY ---\n",
    "    investigation_selector.observe(update_dashboard, names='value')\n",
    "    dashboard = widgets.VBox([\n",
    "        widgets.HTML(\"<h2>Outbreak Investigation Report Explorer</h2>\"),\n",
    "        investigation_selector, widgets.HTML(\"<hr>\"), main_tabs\n",
    "    ])\n",
    "    display(dashboard)\n",
    "    update_dashboard(None)\n",
    "else:\n",
    "    print(\"⚠️ Dashboard cannot be displayed as no investigation data was loaded.\")"
   ]
  }
 ],
 "metadata": {
  "kernelspec": {
   "display_name": "Python 3",
   "language": "python",
   "name": "python3"
  },
  "language_info": {
   "name": "python",
   "version": "3.9.0"
  }
 },
 "nbformat": 4,
 "nbformat_minor": 2
}
